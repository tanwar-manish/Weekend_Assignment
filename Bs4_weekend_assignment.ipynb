{
 "cells": [
  {
   "cell_type": "code",
   "execution_count": 4,
   "id": "2a5895ec",
   "metadata": {},
   "outputs": [],
   "source": [
    "import requests\n",
    "from bs4 import BeautifulSoup\n",
    "import csv\n",
    "\n",
    "url= 'https://www.amazon.com/s?k=laptop+accessories&crid=3QLHB1VVTCJAM&sprefix=laptop+ass%2Caps%2C355&ref=nb_sb_ss_ts-doa-p_1_10'\n",
    "\n",
    "headers = {'User-Agent':'Mozilla/5.0 (Windows NT 10.0) AppleWebKit/537.36 (KHTML, like Gecko) Chrome/42.0.2311.135 Safari/537.36 Edge/12.10136'}\n",
    "\n",
    "source= requests.get(url,headers=headers)\n",
    "soup = BeautifulSoup(source.content , 'html.parser')\n",
    "container = soup.find_all ('div', {'data-component-type': 's-search-result'})\n",
    "\n",
    "with open('Output_amazon_products.csv', 'w', newline='', encoding='utf-8') as csvfile:\n",
    "    fieldnames = ['Product Name', 'Product Price', 'Rating', 'Number of Reviews']\n",
    "    writer = csv.DictWriter(csvfile, fieldnames=fieldnames)\n",
    "    writer.writeheader()\n",
    "    \n",
    "    for details in container:\n",
    "        product_name = details.find('span',class_=\"a-size-medium a-color-base a-text-normal\").text\n",
    "        product_price = details.find('span', class_=\"a-offscreen\").text\n",
    "        rating = details.find('span', {'class': 'a-icon-alt'}).text.split()[0]\n",
    "        review = details.find('span', {'class': 'a-size-base'}).text\n",
    "        \n",
    "        writer.writerow({'Product Name': product_name, 'Product Price': product_price, 'Rating': rating, 'Number of Reviews': review})\n",
    "        \n",
    "        print(f\"Product Name: {product_name}\")\n",
    "        print(f\"Product Price: {product_price}\")\n",
    "        print(f'Product Rating : {rating}')\n",
    "        print(f\"Number of Review : {review}\")\n"
   ]
  },
  {
   "cell_type": "code",
   "execution_count": null,
   "id": "f4a0cd4b",
   "metadata": {},
   "outputs": [],
   "source": []
  }
 ],
 "metadata": {
  "kernelspec": {
   "display_name": "Python 3 (ipykernel)",
   "language": "python",
   "name": "python3"
  },
  "language_info": {
   "codemirror_mode": {
    "name": "ipython",
    "version": 3
   },
   "file_extension": ".py",
   "mimetype": "text/x-python",
   "name": "python",
   "nbconvert_exporter": "python",
   "pygments_lexer": "ipython3",
   "version": "3.9.13"
  }
 },
 "nbformat": 4,
 "nbformat_minor": 5
}
